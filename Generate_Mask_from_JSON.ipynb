{
  "nbformat": 4,
  "nbformat_minor": 0,
  "metadata": {
    "colab": {
      "name": "Generate_Mask_from_JSON.ipynb",
      "provenance": [],
      "collapsed_sections": [],
      "authorship_tag": "ABX9TyMEu8LtQkOcSnLtggclZO2C",
      "include_colab_link": true
    },
    "kernelspec": {
      "name": "python3",
      "display_name": "Python 3"
    },
    "language_info": {
      "name": "python"
    }
  },
  "cells": [
    {
      "cell_type": "markdown",
      "metadata": {
        "id": "view-in-github",
        "colab_type": "text"
      },
      "source": [
        "<a href=\"https://colab.research.google.com/github/richardgault/Automated-Ki-67-proliferation-scoring/blob/main/Generate_Mask_from_JSON.ipynb\" target=\"_parent\"><img src=\"https://colab.research.google.com/assets/colab-badge.svg\" alt=\"Open In Colab\"/></a>"
      ]
    },
    {
      "cell_type": "markdown",
      "metadata": {
        "id": "Ek1yxOXpHx_H"
      },
      "source": [
        "# Overview\n",
        "This notebook will take JSON files in the format\n",
        "\n",
        "[{\"x\": 123, \"y\":456, \"label_id\": 1},{\"x\":321, \"y\":654, \"label_id\": 2}, ... ] \n",
        "\n",
        "and create the mask (png) size 256x256. It is assumed that the original image sise is 1228x1228.\n",
        "\n",
        "It is also assumed that the data has already been separated in to train/test/validation groups.\n",
        "\n",
        "For more information please see: https://github.com/richardgault/Automated-Ki-67-proliferation-scoring/blob/main/README.md\n",
        "\n",
        "At the end, the number of actual Ki-67 positive cells in the JSON files along with the number of non-positive cells is saved to a CSV file for future reference."
      ]
    },
    {
      "cell_type": "code",
      "metadata": {
        "id": "3217kBlQNGFu"
      },
      "source": [
        "from google.colab import drive\n",
        "drive.mount('/content/drive')"
      ],
      "execution_count": null,
      "outputs": []
    },
    {
      "cell_type": "code",
      "metadata": {
        "id": "cPvMlZ_p-iwG"
      },
      "source": [
        "dataset_directory = input('Specify the directory where your data is stored (ending with / e.g drive/MyDrive/myfiles/are/here/): ')"
      ],
      "execution_count": null,
      "outputs": []
    },
    {
      "cell_type": "markdown",
      "metadata": {
        "id": "ch4PzU4FOseS"
      },
      "source": [
        "Import Packages"
      ]
    },
    {
      "cell_type": "code",
      "metadata": {
        "id": "N95jkC8zOvtL"
      },
      "source": [
        "from PIL import Image, ImageDraw, ImageFilter\n",
        "\n",
        "import matplotlib.pyplot as plt\n",
        "import torch\n",
        "import torchvision.transforms as T\n",
        "import numpy as np\n",
        "import random\n",
        "import itertools\n",
        "import cv2\n",
        "import os\n",
        "import glob\n",
        "import json\n",
        "import imutils\n",
        "import shutil"
      ],
      "execution_count": 3,
      "outputs": []
    },
    {
      "cell_type": "code",
      "metadata": {
        "id": "Dm2WyksmO0T7"
      },
      "source": [
        "def setup_directories(directory_list):\n",
        "    for folder in directory_list:\n",
        "        if not os.path.exists(folder):\n",
        "            os.makedirs(folder)"
      ],
      "execution_count": 4,
      "outputs": []
    },
    {
      "cell_type": "markdown",
      "metadata": {
        "id": "CnoMkWG4WOgL"
      },
      "source": [
        "Note in the next function the dimensions of the input and output images are prescribed as being 1228x1228. You may wish to modify this for your own particular needs."
      ]
    },
    {
      "cell_type": "code",
      "metadata": {
        "id": "TyUZnEasO5BK"
      },
      "source": [
        "def create_dataset(read_images, read_labels, write_images, write_labels):\n",
        "    index = 1\n",
        "    for file in glob.glob(read_labels + \"*.json\"):\n",
        "        print(index,file)\n",
        "        \n",
        "        with open(file, 'r') as jsonFile:\n",
        "            data = jsonFile.read()\n",
        "        label_dict = json.loads(data)\n",
        "        \n",
        "        base = os.path.basename(file)\n",
        "        image_filename = os.path.splitext(base)[0]\n",
        "        \n",
        "        image_to_read = read_images + image_filename + \".jpg\"\n",
        "        # BGR\n",
        "        img = cv2.imread(image_to_read)\n",
        "        # HSV\n",
        "        hsv = cv2.cvtColor(img, cv2.COLOR_BGR2HSV)\n",
        "        # RGB\n",
        "        rgb = cv2.cvtColor(img, cv2.COLOR_BGR2RGB)\n",
        "        # GRAY\n",
        "        gray = cv2.cvtColor(img,cv2.COLOR_BGR2GRAY)\n",
        "        \n",
        "        image_file = Image.open(image_to_read)\n",
        "        image_file = image_file.resize((256, 256))\n",
        "        image_file = cv2.cvtColor(np.array(image_file), cv2.COLOR_BGR2RGB)\n",
        "        cv2.imwrite(write_images+image_filename+\".png\", image_file)\n",
        "        # shutil.copy(image_to_read, write_images + \"image\"+str(index)+\".jpg\")\n",
        "        \n",
        "        thresh_gaussian = cv2.adaptiveThreshold(gray, 255, cv2.ADAPTIVE_THRESH_GAUSSIAN_C, \n",
        "                                          cv2.THRESH_BINARY_INV, 199, 5)  \n",
        "        \n",
        "        # Find the contours\n",
        "        contours = cv2.findContours(thresh_gaussian.copy(), cv2.RETR_TREE, cv2.CHAIN_APPROX_SIMPLE)\n",
        "        contours = imutils.grab_contours(contours)\n",
        "        mask = np.zeros((1228,1228,3), dtype=np.uint8)\n",
        "        mask_contours = cv2.drawContours(mask.copy(), contours, -1, (128,128,128), thickness=-1)\n",
        "        \n",
        "        for c in contours:\n",
        "            M = cv2.moments(c)\n",
        "            area = cv2.contourArea(c)\n",
        "            if(M[\"m00\"]!=0 and area > 120):\n",
        "                #cX = int(M[\"m10\"] / M[\"m00\"])\n",
        "                #cY = int(M[\"m01\"] / M[\"m00\"])\n",
        "                for entry in range(len(label_dict)):\n",
        "                    X = label_dict[entry]['x']\n",
        "                    Y = label_dict[entry]['y']\n",
        "                    label = 0\n",
        "                    in_contour = cv2.pointPolygonTest(c, (X,Y), False)\n",
        "                    if in_contour ==1:\n",
        "                        label =  label_dict[entry]['label_id']\n",
        "                        if (label == 1):\n",
        "                            mask_contours = mask_contours.astype(np.uint8)\n",
        "                            # mask dimensions must be 2 pixels greater than image dimensions\n",
        "                            temp_mask = np.zeros((1230,1230), dtype=np.uint8)\n",
        "                            cv2.floodFill(mask_contours,temp_mask,(X,Y), (255,255,255))\n",
        "            #else:\n",
        "             #   cX,cY = 0,0\n",
        "                \n",
        "        final_img = Image.fromarray(mask_contours)\n",
        "        final_img = final_img.resize((256,256))\n",
        "        final_img = cv2.cvtColor(np.array(final_img),cv2.COLOR_BGR2RGB)\n",
        "        lower_Healthy = np.array([60,60,60])\n",
        "        upper_Healthy = np.array([240,240,240])\n",
        "        lower_ki67 = np.array([241,241,241])\n",
        "        upper_ki67 = np.array([255,255,255])\n",
        "        mask_Healthy = cv2.inRange(final_img,lower_Healthy,upper_Healthy)\n",
        "        mask_ki67 = cv2.inRange(final_img,lower_ki67,upper_ki67)\n",
        "        mask_Combined = mask_ki67 + mask_Healthy\n",
        "        \n",
        "        final_img[mask_ki67>0]=(255,255,255)\n",
        "        final_img[mask_Healthy>0]=(128,128,128)\n",
        "        final_img[mask_Combined==0]=(0,0,0)\n",
        "        final_img = cv2.cvtColor(np.array(final_img),cv2.COLOR_BGR2GRAY)\n",
        "        cv2.imwrite(write_labels+image_filename+\"_mask.png\", final_img)\n",
        "        index = index + 1     "
      ],
      "execution_count": 5,
      "outputs": []
    },
    {
      "cell_type": "markdown",
      "metadata": {
        "id": "eWL2I6EIO87q"
      },
      "source": [
        "# Data format\n",
        "\n",
        "It is assumed that within the main data directory (entered previously) that the datasets are in the following directory structure\n",
        "\n",
        "*Dataset directory*\n",
        "\n",
        "*   train\n",
        "\n",
        "    ->image1.jpeg\n",
        "\n",
        "    ->image2.jpeg\n",
        "\n",
        "    ->...\n",
        "    \n",
        "*   train_labels\n",
        "\n",
        "    ->image1.json\n",
        "\n",
        "    ->image2.json\n",
        "\n",
        "    ->...\n",
        "    \n",
        "*   test\n",
        "\n",
        "    ->imageT1.jpeg\n",
        "\n",
        "    ->imageT2.jpeg\n",
        "\n",
        "    ->...\n",
        "    \n",
        "*   test_labels\n",
        "\n",
        "    ->imageT1.json\n",
        "\n",
        "    ->imageT2.json\n",
        "\n",
        "    ->...\n",
        "    \n",
        "*   validation\n",
        "\n",
        "    ->imageV1.jpeg\n",
        "\n",
        "    ->imageV2.jpeg\n",
        "\n",
        "    ->...\n",
        "    \n",
        "*   validation_labels\n",
        "\n",
        "    ->imageV1.json\n",
        "\n",
        "    ->imageV2.json\n",
        "\n",
        "    ->..."
      ]
    },
    {
      "cell_type": "code",
      "metadata": {
        "id": "_eWdweb-O8P5"
      },
      "source": [
        "input_train_images = dataset_directory + \"train/\"\n",
        "input_train_labels = dataset_directory +\"train_labels/\"\n",
        "input_validation_images = dataset_directory + \"validation/\"\n",
        "input_validation_labels = dataset_directory + \"validation_labels/\"\n",
        "input_test_images = dataset_directory + \"test/\"\n",
        "input_test_labels = dataset_directory + \"test_labels/\""
      ],
      "execution_count": 6,
      "outputs": []
    },
    {
      "cell_type": "code",
      "metadata": {
        "id": "ImYx3T9FPASR"
      },
      "source": [
        "output_directory = dataset_directory+\"Output_data/\"\n",
        "output_training_images = output_directory + \"train_png/\"\n",
        "output_training_labels = output_directory + \"train_masks/\"\n",
        "output_validation_images = output_directory + \"validation_png/\"\n",
        "output_validation_labels = output_directory + \"validation_masks/\"\n",
        "output_test_images = output_directory + \"test_png/\"\n",
        "output_test_labels = output_directory + \"test_masks/\""
      ],
      "execution_count": 7,
      "outputs": []
    },
    {
      "cell_type": "code",
      "metadata": {
        "id": "mKcBMHjPPDxZ"
      },
      "source": [
        "read_directory_list = [dataset_directory,\n",
        "                       input_train_images,input_train_labels,\n",
        "                        input_validation_images,input_validation_labels,\n",
        "                       input_test_images, input_test_labels]\n",
        "\n",
        "write_directory_list = [output_directory,\n",
        "                        output_training_images,output_training_labels,\n",
        "                        output_validation_images, output_validation_labels,\n",
        "                        output_test_images,output_test_labels]"
      ],
      "execution_count": 8,
      "outputs": []
    },
    {
      "cell_type": "code",
      "metadata": {
        "id": "WFsS-TNdPFhJ"
      },
      "source": [
        "setup_directories(write_directory_list)\n",
        "\n",
        "create_dataset(input_train_images,input_train_labels,output_training_images,output_training_labels)\n",
        "create_dataset(input_validation_images,input_validation_labels,output_validation_images,output_validation_labels)\n",
        "create_dataset(input_test_images, input_test_labels,output_test_images,output_test_labels)"
      ],
      "execution_count": null,
      "outputs": []
    },
    {
      "cell_type": "markdown",
      "metadata": {
        "id": "JVV4hAtMF2-Z"
      },
      "source": [
        "Count the number of each class in the JSON files"
      ]
    },
    {
      "cell_type": "code",
      "metadata": {
        "id": "02Rsej0dF1-6"
      },
      "source": [
        "def count_cells(output_name,read_labels):\n",
        "  with open(output_name, 'w', newline='') as file:\n",
        "    writer = csv.writer(file)\n",
        "    writer.writerow([\"Filename\", \"Normal cells\", \"Ki67 cells\"])\n",
        "    for file in glob.glob(read_labels + \"*.json\"):      \n",
        "      with open(file, 'r') as jsonFile:\n",
        "        data = jsonFile.read()\n",
        "      label_dict = json.loads(data)\n",
        "      \n",
        "      base = os.path.basename(file)\n",
        "      image_filename = os.path.splitext(base)[0]\n",
        "      normal_count = 0;\n",
        "      Ki67_count = 0;\n",
        "      for entry in range(len(label_dict)):\n",
        "        label =  label_dict[entry]['label_id']\n",
        "        if (label == 1):\n",
        "          Ki67_count = Ki67_count+1;\n",
        "        else:\n",
        "          normal_count = normal_count+1;\n",
        "      \n",
        "      writer.writerow([image_filename, normal_count, Ki67_count])"
      ],
      "execution_count": 10,
      "outputs": []
    },
    {
      "cell_type": "code",
      "metadata": {
        "id": "TYu7ZCQlKOHQ"
      },
      "source": [
        "import csv\n",
        "train_output_name = dataset_directory + 'training_cell_counts.csv';\n",
        "test_output_name = dataset_directory + 'test_cell_counts.csv';\n",
        "val_output_name = dataset_directory + 'val_cell_counts.csv';\n",
        "\n",
        "count_cells(train_output_name,input_train_labels)\n",
        "count_cells(test_output_name,input_test_labels)\n",
        "count_cells(val_output_name,input_validation_labels)"
      ],
      "execution_count": 11,
      "outputs": []
    }
  ]
}